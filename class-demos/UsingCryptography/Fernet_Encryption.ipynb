{
  "nbformat": 4,
  "nbformat_minor": 0,
  "metadata": {
    "graffiti": {
      "firstAuthorId": "10489997357",
      "id": "id_10h5nnh",
      "language": "EN"
    },
    "kernelspec": {
      "display_name": "Python 3",
      "language": "python",
      "name": "python3"
    },
    "language_info": {
      "codemirror_mode": {
        "name": "ipython",
        "version": 3
      },
      "file_extension": ".py",
      "mimetype": "text/x-python",
      "name": "python",
      "nbconvert_exporter": "python",
      "pygments_lexer": "ipython3",
      "version": "3.6.3"
    },
    "colab": {
      "name": "Fernet_Encryption.ipynb",
      "provenance": []
    }
  },
  "cells": [
    {
      "cell_type": "markdown",
      "metadata": {
        "graffitiCellId": "id_wdug686",
        "id": "jz6mmn-tkwjQ",
        "colab_type": "text"
      },
      "source": [
        "> TIP: Remember, code with dotted lines has a tool tip and voice walkthrough!"
      ]
    },
    {
      "cell_type": "code",
      "metadata": {
        "graffitiCellId": "id_hy3x04l",
        "id": "Mh2EQfubkwjR",
        "colab_type": "code",
        "colab": {}
      },
      "source": [
        "# Import Package\n",
        "from cryptography.fernet import Fernet"
      ],
      "execution_count": null,
      "outputs": []
    },
    {
      "cell_type": "code",
      "metadata": {
        "graffitiCellId": "id_ojhrtp0",
        "id": "81g0ZaUykwjW",
        "colab_type": "code",
        "colab": {},
        "outputId": "c6b046e9-80c8-4cbb-c1cf-f46fe636935e"
      },
      "source": [
        "# Generate a Key and Instantiate a Fernet Instance\n",
        "key = Fernet.generate_key()\n",
        "f = Fernet(key)\n",
        "print(key)"
      ],
      "execution_count": null,
      "outputs": [
        {
          "output_type": "stream",
          "text": [
            "b'uIIR2wf2wJfhPnd1tkuG-g3INcPllJxAhNY5j9veKGA='\n"
          ],
          "name": "stdout"
        }
      ]
    },
    {
      "cell_type": "code",
      "metadata": {
        "graffitiCellId": "id_6c7hjw4",
        "id": "Dx2p7YAokwjZ",
        "colab_type": "code",
        "colab": {}
      },
      "source": [
        "# Define our message\n",
        "plaintext = b\"encryption is very useful\""
      ],
      "execution_count": null,
      "outputs": []
    },
    {
      "cell_type": "code",
      "metadata": {
        "graffitiCellId": "id_595rfih",
        "id": "2_U64daUkwjb",
        "colab_type": "code",
        "colab": {},
        "outputId": "b4c71239-0bb7-4966-86a9-a5a08548b85e"
      },
      "source": [
        "# Encrypt\n",
        "ciphertext = f.encrypt(plaintext)\n",
        "print(ciphertext)"
      ],
      "execution_count": null,
      "outputs": [
        {
          "output_type": "stream",
          "text": [
            "b'gAAAAABe4ZoeFKv1G_RabfN_yqp0UC4XpKHf3504QKJq72Lk87J50gatJhHHNVGWDzim7qyI5EqlVFzjP3rx_2eZ0JMMsw1lYHD2wj7c9ytCPDSzb4grNFc='\n"
          ],
          "name": "stdout"
        }
      ]
    },
    {
      "cell_type": "code",
      "metadata": {
        "graffitiCellId": "id_v8jg1f4",
        "id": "MPoTzVs6kwjd",
        "colab_type": "code",
        "colab": {},
        "outputId": "0ee51e85-9702-4b0e-9a10-7874a66b47f4"
      },
      "source": [
        "# Decrypt\n",
        "decryptedtext = f.decrypt(ciphertext)\n",
        "print(decryptedtext)"
      ],
      "execution_count": null,
      "outputs": [
        {
          "output_type": "stream",
          "text": [
            "b'encryption is very useful'\n"
          ],
          "name": "stdout"
        }
      ]
    },
    {
      "cell_type": "code",
      "metadata": {
        "graffitiCellId": "id_e80i71n",
        "id": "66vW5Uqxkwjf",
        "colab_type": "code",
        "colab": {},
        "outputId": "259a394d-311f-4a13-8cd2-d97cba69e6b3"
      },
      "source": [
        "key = b'8cozhW9kSi5poZ6TWFuMCV123zg-9NORTs3gJq_J5Do='\n",
        "f = Fernet(key)\n",
        "print(f.decrypt(b'gAAAAABc8Wf3rxaime-363wbhCaIe1FoZUdnFeIXX_Nh9qKSDkpBFPqK8L2HbkM8NCQAxY8yOWbjxzMC4b5uCaeEpqDYCRNIhnqTK8jfzFYfPdozf7NPvGzNBwuuvIxK5NZYJbxQwfK72BNrZCKpfp6frL8m8pdgYbLNFcy6jCJBXATR3gHBb0Y='))"
      ],
      "execution_count": null,
      "outputs": [
        {
          "output_type": "stream",
          "text": [
            "b'great job! remember, encryption is only as good as your key secrecy!'\n"
          ],
          "name": "stdout"
        }
      ]
    },
    {
      "cell_type": "code",
      "metadata": {
        "graffitiCellId": "id_pe7h24i",
        "id": "u3dTQZL1kwji",
        "colab_type": "code",
        "colab": {},
        "outputId": "41e26257-c5d2-416b-c52c-92acf98db100"
      },
      "source": [
        "message = b\"encrypting is just as useful\"\n",
        "print(f.encrypt(message))"
      ],
      "execution_count": null,
      "outputs": [
        {
          "output_type": "stream",
          "text": [
            "b'gAAAAABe4ZrfmhAgdgbIu-2lW_4xm-umKOV_ZslBDcqySVcQDnP-UyoGymrV3TLQu1ew9TdLW5pGK7GThxzQ8LNwx9-pXvQ1911Uf3aUGBOXQRHMHhbweOw='\n"
          ],
          "name": "stdout"
        }
      ]
    }
  ]
}