{
  "nbformat": 4,
  "nbformat_minor": 0,
  "metadata": {
    "kernelspec": {
      "display_name": "Python 3",
      "language": "python",
      "name": "python3"
    },
    "language_info": {
      "codemirror_mode": {
        "name": "ipython",
        "version": 3
      },
      "file_extension": ".py",
      "mimetype": "text/x-python",
      "name": "python",
      "nbconvert_exporter": "python",
      "pygments_lexer": "ipython3",
      "version": "3.7.6"
    },
    "colab": {
      "name": "Decorators.ipynb",
      "provenance": []
    }
  },
  "cells": [
    {
      "cell_type": "code",
      "metadata": {
        "id": "zdi5JT1RhP_Q",
        "colab_type": "code",
        "colab": {}
      },
      "source": [
        "from functools import wraps"
      ],
      "execution_count": null,
      "outputs": []
    },
    {
      "cell_type": "code",
      "metadata": {
        "id": "-H-cdnqPhP_U",
        "colab_type": "code",
        "colab": {},
        "outputId": "5d042aea-a649-4530-fcb6-2a3818a32a31"
      },
      "source": [
        "def print_name(name):\n",
        "    print(name)\n",
        "    \n",
        "print_name('Jimmy')"
      ],
      "execution_count": null,
      "outputs": [
        {
          "output_type": "stream",
          "text": [
            "Jimmy\n"
          ],
          "name": "stdout"
        }
      ]
    },
    {
      "cell_type": "code",
      "metadata": {
        "id": "iZZHMLDhhP_Y",
        "colab_type": "code",
        "colab": {},
        "outputId": "69019b8a-c0f5-40f0-bc2c-02a973f3d6ad"
      },
      "source": [
        "# Add a simple decorator to inject a greeting\n",
        "def add_greeting(f):\n",
        "    @wraps(f)\n",
        "    def wrapper(*args, **kwards):\n",
        "        print('Hello!')\n",
        "        return f(*args, **kwards)\n",
        "    return wrapper\n",
        "\n",
        "@add_greeting\n",
        "def print_name(name):\n",
        "    print(name)\n",
        "    \n",
        "print_name(\"Sandy\")"
      ],
      "execution_count": null,
      "outputs": [
        {
          "output_type": "stream",
          "text": [
            "Hello!\n",
            "Sandy\n"
          ],
          "name": "stdout"
        }
      ]
    },
    {
      "cell_type": "code",
      "metadata": {
        "id": "m5tBpl_uhP_b",
        "colab_type": "code",
        "colab": {},
        "outputId": "673d81fe-f75c-44ab-b82a-60590ef8544f"
      },
      "source": [
        "# Add some complexity in the form of a parameter\n",
        "def add_greeting(greeting=''):\n",
        "    def add_greeting_decorator(f):\n",
        "        @wraps(f)\n",
        "        def wrapper(*args, **kwargs):\n",
        "            print(greeting)\n",
        "            return f(*args, **kwargs)\n",
        "        return wrapper\n",
        "    return add_greeting_decorator\n",
        "\n",
        "@add_greeting(\"What's up!\")\n",
        "def print_name(name):\n",
        "    print(name)\n",
        "    \n",
        "print_name('Kathy')"
      ],
      "execution_count": null,
      "outputs": [
        {
          "output_type": "stream",
          "text": [
            "What's up!\n",
            "Kathy\n"
          ],
          "name": "stdout"
        }
      ]
    },
    {
      "cell_type": "code",
      "metadata": {
        "id": "MJfhfn0ahP_g",
        "colab_type": "code",
        "colab": {},
        "outputId": "0aa6f1c9-a8ed-47a7-f376-e188ea46a5bd"
      },
      "source": [
        "# Pass information back to the wrapped method\n",
        "def add_greeting(greeting=''):\n",
        "    def add_greeting_decorator(f):\n",
        "        @wraps(f)\n",
        "        def wrapper(*args, **kwargs):\n",
        "            print(greeting)\n",
        "            return f(greeting, *args, **kwargs)\n",
        "        return wrapper\n",
        "    return add_greeting_decorator\n",
        "\n",
        "@add_greeting(\"Yo!\")\n",
        "def print_name(greeting, name):\n",
        "    print(greeting)\n",
        "    print(name)\n",
        "    \n",
        "print_name(\"Abe\")"
      ],
      "execution_count": null,
      "outputs": [
        {
          "output_type": "stream",
          "text": [
            "Yo!\n",
            "Yo!\n",
            "Abe\n"
          ],
          "name": "stdout"
        }
      ]
    }
  ]
}