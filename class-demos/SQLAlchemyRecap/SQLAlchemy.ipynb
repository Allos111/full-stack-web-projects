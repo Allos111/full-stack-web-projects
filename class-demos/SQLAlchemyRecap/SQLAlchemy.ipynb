{
  "nbformat": 4,
  "nbformat_minor": 0,
  "metadata": {
    "kernelspec": {
      "display_name": "Python 3",
      "language": "python",
      "name": "python3"
    },
    "language_info": {
      "codemirror_mode": {
        "name": "ipython",
        "version": 3
      },
      "file_extension": ".py",
      "mimetype": "text/x-python",
      "name": "python",
      "nbconvert_exporter": "python",
      "pygments_lexer": "ipython3",
      "version": "3.7.6"
    },
    "colab": {
      "name": "SQLAlchemy.ipynb",
      "provenance": [],
      "collapsed_sections": []
    }
  },
  "cells": [
    {
      "cell_type": "code",
      "metadata": {
        "id": "fZbRkgk2fJP4",
        "colab_type": "code",
        "colab": {}
      },
      "source": [
        "import os\n",
        "from sqlalchemy import create_engine, Column, String, Integer\n",
        "from sqlalchemy.ext.declarative import declarative_base\n",
        "from sqlalchemy.orm import sessionmaker"
      ],
      "execution_count": null,
      "outputs": []
    },
    {
      "cell_type": "code",
      "metadata": {
        "id": "aCg5UNPkfJP8",
        "colab_type": "code",
        "colab": {}
      },
      "source": [
        "database_filename = 'playground.db'\n",
        "project_dir = os.path.dirname(os.path.abspath(''))\n",
        "database_path = 'sqlite:///{}'.format(os.path.join(project_dir, database_filename))\n",
        "\n",
        "engine = create_engine(database_path)"
      ],
      "execution_count": null,
      "outputs": []
    },
    {
      "cell_type": "code",
      "metadata": {
        "id": "dOdW__tefJP-",
        "colab_type": "code",
        "colab": {},
        "outputId": "ab77655c-0150-4d70-b2dd-3c1c75982ded"
      },
      "source": [
        "Base = declarative_base()\n",
        "\n",
        "class User(Base):\n",
        "    __tablename__ = 'users'\n",
        "    # Autoincremeting, unique primary key\n",
        "    id = Column(Integer().with_variant(Integer, 'sqlite'), primary_key=True)\n",
        "    # String Title\n",
        "    username = Column(String(80), unique=True)\n",
        "    # the ingredients blob\n",
        "    password = Column(String(180), nullable=True)\n",
        "    \n",
        "    def __repr__(self):\n",
        "        return self.username + ': ' + self.password\n",
        "    \n",
        "User.metadata.create_all(engine)\n",
        "\n",
        "User.__table__"
      ],
      "execution_count": null,
      "outputs": [
        {
          "output_type": "execute_result",
          "data": {
            "text/plain": [
              "Table('users', MetaData(bind=None), Column('id', Variant(), table=<users>, primary_key=True, nullable=False), Column('username', String(length=80), table=<users>), Column('password', String(length=180), table=<users>), schema=None)"
            ]
          },
          "metadata": {
            "tags": []
          },
          "execution_count": 9
        }
      ]
    },
    {
      "cell_type": "code",
      "metadata": {
        "id": "8pTSnHIBfJQA",
        "colab_type": "code",
        "colab": {}
      },
      "source": [
        "# Init a session\n",
        "Session = sessionmaker(bind=engine)\n",
        "Session.configure(bind=engine)\n",
        "session = Session()"
      ],
      "execution_count": null,
      "outputs": []
    },
    {
      "cell_type": "code",
      "metadata": {
        "id": "8jXvCb5NfJQD",
        "colab_type": "code",
        "colab": {}
      },
      "source": [
        "# Add a new user\n",
        "session.rollback()\n",
        "\n",
        "new_user = User(username=\"James\", password=\"superstrongpassword\")\n",
        "session.add(new_user)\n",
        "session.commit()"
      ],
      "execution_count": null,
      "outputs": []
    },
    {
      "cell_type": "code",
      "metadata": {
        "id": "rWFeWgm5fJQF",
        "colab_type": "code",
        "colab": {},
        "outputId": "011a479a-597e-4942-dae4-34ed16c97b8b"
      },
      "source": [
        "# Fetch a user from the database\n",
        "db_user = session.query(User).filter_by(username=\"James\").first()\n",
        "print(db_user)"
      ],
      "execution_count": null,
      "outputs": [
        {
          "output_type": "stream",
          "text": [
            "James: superstrongpassword\n"
          ],
          "name": "stdout"
        }
      ]
    },
    {
      "cell_type": "code",
      "metadata": {
        "id": "eIZ9THAEfJQI",
        "colab_type": "code",
        "colab": {}
      },
      "source": [
        "# Connect to database.db\n",
        "database_filename = 'database.db'\n",
        "database_path = 'sqlite:///{}'.format(os.path.join(os.getcwd(), database_filename))\n",
        "\n",
        "engine = create_engine(database_path)"
      ],
      "execution_count": null,
      "outputs": []
    },
    {
      "cell_type": "code",
      "metadata": {
        "id": "-d4GfAoZfJQL",
        "colab_type": "code",
        "colab": {}
      },
      "source": [
        "# Init a session\n",
        "Session = sessionmaker(bind=engine)\n",
        "Session.configure(bind=engine)\n",
        "session = Session()"
      ],
      "execution_count": null,
      "outputs": []
    },
    {
      "cell_type": "code",
      "metadata": {
        "id": "f_E8lc5CfJQN",
        "colab_type": "code",
        "colab": {},
        "outputId": "fd3210af-f0e3-465d-b356-39b05ae65313"
      },
      "source": [
        "# Query username 'Abe'\n",
        "session.rollback()\n",
        "\n",
        "db_user = session.query(User).filter_by(username=\"Abe\").first()\n",
        "print(db_user)"
      ],
      "execution_count": null,
      "outputs": [
        {
          "output_type": "stream",
          "text": [
            "Abe: badpassword\n"
          ],
          "name": "stdout"
        }
      ]
    }
  ]
}