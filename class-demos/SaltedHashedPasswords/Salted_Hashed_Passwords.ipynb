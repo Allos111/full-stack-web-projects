{
  "nbformat": 4,
  "nbformat_minor": 0,
  "metadata": {
    "graffiti": {
      "firstAuthorId": "10489997357",
      "id": "id_owkala1",
      "language": "EN"
    },
    "kernelspec": {
      "display_name": "Python 3",
      "language": "python",
      "name": "python3"
    },
    "language_info": {
      "codemirror_mode": {
        "name": "ipython",
        "version": 3
      },
      "file_extension": ".py",
      "mimetype": "text/x-python",
      "name": "python",
      "nbconvert_exporter": "python",
      "pygments_lexer": "ipython3",
      "version": "3.6.3"
    },
    "colab": {
      "name": "Salted_Hashed_Passwords.ipynb",
      "provenance": [],
      "collapsed_sections": []
    }
  },
  "cells": [
    {
      "cell_type": "code",
      "metadata": {
        "graffitiCellId": "id_o5zz5un",
        "id": "oEamv2nQpmo7",
        "colab_type": "code",
        "colab": {
          "base_uri": "https://localhost:8080/",
          "height": 173
        },
        "outputId": "388973e4-8dbd-452b-fda0-e593dd2c4dbd"
      },
      "source": [
        "# Import the Python Library\n",
        "import sys\n",
        "!{sys.executable} -m pip install bcrypt\n",
        "import bcrypt"
      ],
      "execution_count": 2,
      "outputs": [
        {
          "output_type": "stream",
          "text": [
            "Collecting bcrypt\n",
            "\u001b[?25l  Downloading https://files.pythonhosted.org/packages/26/70/6d218afbe4c73538053c1016dd631e8f25fffc10cd01f5c272d7acf3c03d/bcrypt-3.2.0-cp36-abi3-manylinux2010_x86_64.whl (63kB)\n",
            "\r\u001b[K     |█████▏                          | 10kB 7.9MB/s eta 0:00:01\r\u001b[K     |██████████▎                     | 20kB 2.7MB/s eta 0:00:01\r\u001b[K     |███████████████▍                | 30kB 3.6MB/s eta 0:00:01\r\u001b[K     |████████████████████▌           | 40kB 4.1MB/s eta 0:00:01\r\u001b[K     |█████████████████████████▋      | 51kB 3.3MB/s eta 0:00:01\r\u001b[K     |██████████████████████████████▊ | 61kB 3.6MB/s eta 0:00:01\r\u001b[K     |████████████████████████████████| 71kB 2.5MB/s \n",
            "\u001b[?25hRequirement already satisfied: cffi>=1.1 in /usr/local/lib/python3.6/dist-packages (from bcrypt) (1.14.2)\n",
            "Requirement already satisfied: six>=1.4.1 in /usr/local/lib/python3.6/dist-packages (from bcrypt) (1.15.0)\n",
            "Requirement already satisfied: pycparser in /usr/local/lib/python3.6/dist-packages (from cffi>=1.1->bcrypt) (2.20)\n",
            "Installing collected packages: bcrypt\n",
            "Successfully installed bcrypt-3.2.0\n"
          ],
          "name": "stdout"
        }
      ]
    },
    {
      "cell_type": "code",
      "metadata": {
        "graffitiCellId": "id_ewiz7ij",
        "id": "wnA51bXvpmo_",
        "colab_type": "code",
        "colab": {}
      },
      "source": [
        "password = b\"studyhard\""
      ],
      "execution_count": 3,
      "outputs": []
    },
    {
      "cell_type": "code",
      "metadata": {
        "graffitiCellId": "id_okz0ahc",
        "id": "_Q5vw699pmpC",
        "colab_type": "code",
        "colab": {
          "base_uri": "https://localhost:8080/",
          "height": 51
        },
        "outputId": "502b118e-9593-4827-f46d-e46fe56e9412"
      },
      "source": [
        "# Hash a password for the first time, with a certain number of rounds\n",
        "salt = bcrypt.gensalt(14)\n",
        "hashed = bcrypt.hashpw(password, salt)\n",
        "print(salt)\n",
        "print(hashed)"
      ],
      "execution_count": 4,
      "outputs": [
        {
          "output_type": "stream",
          "text": [
            "b'$2b$14$e6pCShtb6l7eGUN77d4oyO'\n",
            "b'$2b$14$e6pCShtb6l7eGUN77d4oyOr8Gh14lSCEX/xI3HrpJjrXDqnNodkeK'\n"
          ],
          "name": "stdout"
        }
      ]
    },
    {
      "cell_type": "code",
      "metadata": {
        "graffitiCellId": "id_vve0col",
        "id": "E5EcN9U1pmpF",
        "colab_type": "code",
        "colab": {
          "base_uri": "https://localhost:8080/",
          "height": 34
        },
        "outputId": "0219524d-0b14-468c-8ed5-c2b06f5fdd28"
      },
      "source": [
        "# Check a plain text string against the salted, hashed digest\n",
        "bcrypt.checkpw(password, hashed)"
      ],
      "execution_count": 5,
      "outputs": [
        {
          "output_type": "execute_result",
          "data": {
            "text/plain": [
              "True"
            ]
          },
          "metadata": {
            "tags": []
          },
          "execution_count": 5
        }
      ]
    },
    {
      "cell_type": "code",
      "metadata": {
        "graffitiCellId": "id_6cfgqoa",
        "id": "0xOdRpMrpmpI",
        "colab_type": "code",
        "colab": {
          "base_uri": "https://localhost:8080/",
          "height": 68
        },
        "outputId": "d75e0107-6bf9-41a5-d549-4225859beeae"
      },
      "source": [
        "# Trying some new hash values and keys\n",
        "hashed = b'$2b$14$EFOxm3q8UWH8ZzK1h.WTZeRcPyr8/X0vRfuL3/e9z7AKIMnocurBG'\n",
        "passwords = [b'securepassword', b'udacity', b'learningisfun']\n",
        "\n",
        "for password in passwords:\n",
        "    result = bcrypt.checkpw(password, hashed)\n",
        "    print (password, ':', result)"
      ],
      "execution_count": 6,
      "outputs": [
        {
          "output_type": "stream",
          "text": [
            "b'securepassword' : False\n",
            "b'udacity' : False\n",
            "b'learningisfun' : True\n"
          ],
          "name": "stdout"
        }
      ]
    }
  ]
}