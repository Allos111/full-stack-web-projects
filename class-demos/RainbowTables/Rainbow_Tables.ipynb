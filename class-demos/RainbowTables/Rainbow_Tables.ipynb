{
  "nbformat": 4,
  "nbformat_minor": 0,
  "metadata": {
    "graffiti": {
      "firstAuthorId": "10489997357",
      "id": "id_lgj666v",
      "language": "EN"
    },
    "kernelspec": {
      "display_name": "Python 3",
      "language": "python",
      "name": "python3"
    },
    "language_info": {
      "codemirror_mode": {
        "name": "ipython",
        "version": 3
      },
      "file_extension": ".py",
      "mimetype": "text/x-python",
      "name": "python",
      "nbconvert_exporter": "python",
      "pygments_lexer": "ipython3",
      "version": "3.6.3"
    },
    "colab": {
      "name": "Rainbow_Tables.ipynb",
      "provenance": [],
      "toc_visible": true
    }
  },
  "cells": [
    {
      "cell_type": "markdown",
      "metadata": {
        "graffitiCellId": "id_o0dej5p",
        "id": "Pi4zFto1m-kb",
        "colab_type": "text"
      },
      "source": [
        "# Generating Rainbow Tables"
      ]
    },
    {
      "cell_type": "markdown",
      "metadata": {
        "graffitiCellId": "id_avc2zc5",
        "id": "ypnqd9iZm-kc",
        "colab_type": "text"
      },
      "source": [
        "## Set Up"
      ]
    },
    {
      "cell_type": "code",
      "metadata": {
        "graffitiCellId": "id_saz53pc",
        "id": "ViQ_JxQhm-kd",
        "colab_type": "code",
        "colab": {
          "base_uri": "https://localhost:8080/",
          "height": 34
        },
        "outputId": "94c60bd5-cab9-4a8d-8828-4f16b5d8486b"
      },
      "source": [
        "# Load the NIST list of 10,000 most commonly used passwords\n",
        "with open('nist_10000.txt', newline='') as bad_passwords:\n",
        "    nist_bad = bad_passwords.read().split('\\n')\n",
        "print(nist_bad[1:10])"
      ],
      "execution_count": 2,
      "outputs": [
        {
          "output_type": "stream",
          "text": [
            "['123456', 'password', '12345678', 'qwerty', '123456789', '12345', '1234', '111111', '1234567']\n"
          ],
          "name": "stdout"
        }
      ]
    },
    {
      "cell_type": "code",
      "metadata": {
        "graffitiCellId": "id_y8qxu49",
        "id": "U2VCAWdPm-kf",
        "colab_type": "code",
        "colab": {}
      },
      "source": [
        "# The following data is a normalized simplified user table\n",
        "# Imagine this information was stolen or leaked\n",
        "leaked_users_table = {\n",
        "    'jamie': {\n",
        "        'username': 'jamie',\n",
        "        'role': 'subscriber',\n",
        "        'md5': '203ad5ffa1d7c650ad681fdff3965cd2'\n",
        "    }, \n",
        "    'amanda': {\n",
        "        'username': 'amanda',\n",
        "        'role': 'administrator',\n",
        "        'md5': '315eb115d98fcbad39ffc5edebd669c9'\n",
        "    }, \n",
        "    'chiaki': {\n",
        "        'username': 'chiaki',\n",
        "        'role': 'subscriber',\n",
        "        'md5': '941c76b34f8687e46af0d94c167d1403'\n",
        "    }, \n",
        "    'viraj': {\n",
        "        'username': 'viraj',\n",
        "        'role': 'employee',\n",
        "        'md5': '319f4d26e3c536b5dd871bb2c52e3178'\n",
        "    },\n",
        "}"
      ],
      "execution_count": 3,
      "outputs": []
    },
    {
      "cell_type": "code",
      "metadata": {
        "graffitiCellId": "id_aqs4v1f",
        "id": "MX1lusF9m-kj",
        "colab_type": "code",
        "colab": {
          "base_uri": "https://localhost:8080/",
          "height": 35
        },
        "outputId": "6699e9ba-815d-49aa-b42c-eb7b32ba4acd"
      },
      "source": [
        "# import the hashlib\n",
        "import hashlib \n",
        "# example hash\n",
        "word = 'blueberry'\n",
        "hashlib.md5(word.encode()).hexdigest()"
      ],
      "execution_count": 4,
      "outputs": [
        {
          "output_type": "execute_result",
          "data": {
            "application/vnd.google.colaboratory.intrinsic+json": {
              "type": "string"
            },
            "text/plain": [
              "'8bea7325cb48514196063a1f74cf18a4'"
            ]
          },
          "metadata": {
            "tags": []
          },
          "execution_count": 4
        }
      ]
    },
    {
      "cell_type": "markdown",
      "metadata": {
        "graffitiCellId": "id_pcvysx7",
        "id": "yvlU21wcm-kl",
        "colab_type": "text"
      },
      "source": [
        "## Your Task!\n",
        "### Use the information above and hashlib to:\n",
        "1. Create a python dictionary for each word in the `nist_bad` list. For each word, the dictionary should use the hashlib.md5 string as a key, and the word as the value.\n",
        "2. Iterate over each user in the `leaked_users_table` dictionary and attempt to use the rainbow table to crack their password."
      ]
    },
    {
      "cell_type": "code",
      "metadata": {
        "graffitiCellId": "id_eyqjhd9",
        "id": "XOMKucGXm-km",
        "colab_type": "code",
        "colab": {}
      },
      "source": [
        "# SOLVE THE ABOVE TASK HERE!!!\n",
        "# RAINBOW TABLE SOLUTION \n",
        "rainbow_table = {}\n",
        "for password in nist_bad:\n",
        "    hashed_word = hashlib.md5(password.encode()).hexdigest()\n",
        "    rainbow_table[hashed_word] = password"
      ],
      "execution_count": 7,
      "outputs": []
    },
    {
      "cell_type": "code",
      "metadata": {
        "graffitiCellId": "id_r7srxv6",
        "id": "1-RtQfWXm-kp",
        "colab_type": "code",
        "colab": {
          "base_uri": "https://localhost:8080/",
          "height": 85
        },
        "outputId": "c92f8118-02f2-498f-db0c-1d737d46febf"
      },
      "source": [
        "# Use the Rainbow table to determine the plain text password\n",
        "for user in leaked_users_table.keys():\n",
        "    try:\n",
        "        print(user + \":\\t\" + rainbow_table[leaked_users_table[user]['md5']])\n",
        "    except KeyError:\n",
        "        print(user + \":\\t\" + '******* hash not found in rainbow table')"
      ],
      "execution_count": 8,
      "outputs": [
        {
          "output_type": "stream",
          "text": [
            "jamie:\thello1\n",
            "amanda:\tqweasdzxc\n",
            "chiaki:\t******* hash not found in rainbow table\n",
            "viraj:\tPASSWORD\n"
          ],
          "name": "stdout"
        }
      ]
    }
  ]
}